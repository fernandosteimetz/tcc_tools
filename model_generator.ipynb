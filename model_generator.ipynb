{
 "cells": [
  {
   "cell_type": "markdown",
   "metadata": {},
   "source": [
    "IMPORTAÇÃO DE BIBLIOTECAS E DEFINIÇÃO DE VARIÁVEIS"
   ]
  },
  {
   "cell_type": "code",
   "execution_count": null,
   "metadata": {},
   "outputs": [],
   "source": [
    "import numpy as np\n",
    "import random\n",
    "import pandas as pd\n",
    "import glob\n",
    "from smt.sampling_methods import LHS\n",
    "import matplotlib.pyplot as plt\n",
    "\n",
    "path_input = r\"C:\\Documentos\\Modelo Base\\UNISIM-I-D.dat\"\n",
    "path_output = r\"C:\\Documentos\\Modelos\\{}. UNISIM-I-D- {} - {} - {} - {} - {}.dat\"\n",
    "path_logs = r'C:\\Documentos\\logs' #caminho da pasta com os logs\n",
    "path_result = r'C:\\Documentos\\Resultado\\resultado.xlsx'\n",
    "num_modelos = 500\n",
    "# DWOC, COMPRESSIBILIDADE, MULTIPLICADOR DE PERMEABILIDADE, DENSIDADE DO ÓLEO, TRANSMISSIBILIDADE\n",
    "xlimits = np.array([[3074, 3274], [0.0000236, 0.0000824], [0.475,2.525], [750,900], [0,1]])\n",
    "sampling = LHS(xlimits=xlimits)\n",
    "x=sampling(num_modelos)\n",
    "\n",
    "df = pd.DataFrame()\n",
    "df_dwoc = []\n",
    "df_comp = []\n",
    "df_multi = []\n",
    "df_dens = []\n",
    "df_trans = []\n",
    "count = 0"
   ]
  },
  {
   "cell_type": "markdown",
   "metadata": {},
   "source": [
    "PROCESSO ITERATIVO DE GERAÇÃO DE MODELOS"
   ]
  },
  {
   "cell_type": "code",
   "execution_count": null,
   "metadata": {},
   "outputs": [],
   "source": [
    "for i in range(0,num_modelos): #processo iterativo de geração de  modelos\n",
    "    df_dwoc.append(x[i][0])\n",
    "    df_comp.append(x[i][1])\n",
    "    df_multi.append(x[i][2])\n",
    "    df_dens.append(x[i][3])\n",
    "    df_trans.append(x[i][4])\n",
    "    with open(path_input, 'r') as file : #processo de leitura do modelo base\n",
    "        filedata = file.read()\n",
    "    filedata = filedata.replace('DWOC    3100.0  3174.0', 'DWOC  3100.0  {}'.format(x[i][0]))#substituição dos valores do modelo base\n",
    "    filedata = filedata.replace('DATUMDEPTH 3174.0 INITIAL', 'DATUMDEPTH {} INITIAL'.format(x[i][0]))#substituição dos valores do modelo base\n",
    "    filedata = filedata.replace('DENSITY OIL 0.866E3', 'DENSITY OIL {}'.format(x[i][3]))#substituição dos valores do modelo base\n",
    "    filedata = filedata.replace('CPOR 53.0E-6', 'CPOR {}'.format(x[i][1]))#substituição dos valores do modelo base\n",
    "    filedata = filedata.replace('*MOD * 1.5', '*MOD * {}'.format(x[i][2]))#substituição dos valores do modelo base\n",
    "    filedata = filedata.replace(\"TRANSF 'f3'    0.000\", \"TRANSF 'f3'    {}\".format(x[i][4]))#substituição dos valores do modelo base\n",
    "    x\n",
    "    with open(path_output.format(count,x[i][0],x[i][1],x[i][2],x[i][3],x[i][4]), 'w') as file:\n",
    "      file.write(filedata) #salvamento do modelo modificado\n",
    "    count+=1\n",
    "df['DWOC 1'] = df_dwoc #criação de tabelas para armazenamento das informações de geração\n",
    "df['COMPRESSIBILIDADE'] = df_comp #criação de tabelas para armazenamento das informações de geração\n",
    "df['MULTIPLICADOR'] = df_multi #criação de tabelas para armazenamento das informações de geração\n",
    "df['DENSIDADE OLEO'] = df_dens #criação de tabelas para armazenamento das informações de geração\n",
    "df['TRANSMISSIBILIDADE'] = df_trans #criação de tabelas para armazenamento das informações de geração\n",
    "\n",
    "df['DWOC 1'] = df['DWOC 1'].astype(str).str.strip('[]') #transformação de dados para armazenamento no dataframe\n",
    "df['COMPRESSIBILIDADE'] = df['COMPRESSIBILIDADE'].astype(str).str.strip('[]')\n",
    "df['MULTIPLICADOR'] = df['MULTIPLICADOR'].astype(str).str.strip('[]')\n",
    "df['DENSIDADE OLEO'] = df['DENSIDADE OLEO'].astype(str).str.strip('[]')\n",
    "df['TRANSMISSIBILIDADE'] = df['TRANSMISSIBILIDADE'].astype(str).str.strip('[]')\n",
    "df['simulação'] = df.index"
   ]
  },
  {
   "cell_type": "markdown",
   "metadata": {},
   "source": [
    "LEITURA DE LOGS E CAPTAÇÃO DE RESULTADOS"
   ]
  },
  {
   "cell_type": "code",
   "execution_count": null,
   "metadata": {},
   "outputs": [],
   "source": [
    "all_files = glob.glob(path_logs + \"/*.log\") #leitura de todos os arquivos\n",
    "dict_lista = {}\n",
    "li = []\n",
    "li_num = []\n",
    "li_2 = []\n",
    "count = 0\n",
    "variaveis = ['Current oil in place', 'Original oil in place'] #variáveis a serem exploradas no arquivo log\n",
    "\n",
    "for variavel in variaveis: #processo iterativo para cada variável\n",
    "    dict_lista[str(variavel)] = []\n",
    "    for filename in all_files:\n",
    "        if count == 0:\n",
    "            li_num.append(filename.split('\\\\')[5].split('. ')[0])\n",
    "        with open(filename,'r') as file:\n",
    "            for line in reversed(file.readlines()):\n",
    "                if variavel in line:\n",
    "                    print(line)\n",
    "                    dict_lista[str(variavel)].append(line.replace(' ', '').split('|')[2])\n",
    "                    print(dict_lista)\n",
    "                    break\n",
    "    count+=1"
   ]
  },
  {
   "cell_type": "markdown",
   "metadata": {},
   "source": [
    "ORGANIZAÇÃO DOS RESULTADOS E EXPORTAÇÃO DO RESULTADO"
   ]
  },
  {
   "cell_type": "code",
   "execution_count": null,
   "metadata": {},
   "outputs": [],
   "source": [
    "df_novo = pd.DataFrame()\n",
    "df_novo['simulação'] = li_num\n",
    "df_novo['Current oil in place'] = dict_lista.get('Current oil in place')\n",
    "df_novo['Original oil in place'] = dict_lista.get('Original oil in place')\n",
    "df_novo['Original water in place'] = dict_lista.get('Original water in place')\n",
    "df_novo['Original gas in place'] = dict_lista.get('Original gas in place')\n",
    "df_novo['Current water in place'] = dict_lista.get('Current water in place')\n",
    "df_novo['Current gas in place'] = dict_lista.get('Current gas in place')\n",
    "df_novo['Fator de recuperação do óleo (%)'] = dict_lista.get('Oil recovery factor')\n",
    "\n",
    "df_novo['simulação'] = df_novo['simulação'].astype(int)\n",
    "df_final = df.merge(df_novo, left_on='simulação', right_on='simulação')\n",
    "df_final['Produção de óleo'] = df_final['Original oil in place'].astype(float) - df_final['Current oil in place'].astype(float)\n",
    "df_final['Produção de água'] = df_final['Original water in place'].astype(float) - df_final['Current water in place'].astype(float)\n",
    "df_final['Produção de gás'] = df_final['Original gas in place'].astype(float) - df_final['Current gas in place'].astype(float)\n",
    "df_final.to_excel(path_result)"
   ]
  }
 ],
 "metadata": {
  "language_info": {
   "name": "python"
  },
  "orig_nbformat": 4
 },
 "nbformat": 4,
 "nbformat_minor": 2
}
