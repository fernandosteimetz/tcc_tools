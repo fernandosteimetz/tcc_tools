{
 "cells": [
  {
   "cell_type": "markdown",
   "metadata": {},
   "source": [
    "IMPORTAÇÃO DE BIBLIOTECAS E CRIAÇÃO DE VARIÁVEIS"
   ]
  },
  {
   "cell_type": "code",
   "execution_count": null,
   "metadata": {},
   "outputs": [],
   "source": [
    "import pandas as pd\n",
    "import matplotlib.pyplot as plt\n",
    "from tensorflow import keras\n",
    "from sklearn.preprocessing import RobustScaler, StandardScaler\n",
    "from sklearn.model_selection import train_test_split\n",
    "from tensorflow.keras import Sequential\n",
    "from tensorflow.keras.layers import Dense\n",
    "import math\n",
    "\n",
    "path_input = r\"C:\\Documentos\\Rede Neural\\input.xlsx\""
   ]
  },
  {
   "cell_type": "markdown",
   "metadata": {},
   "source": [
    "ORGANIZAÇÃO DO INPUT E PRÉ PROCESSAMENTO"
   ]
  },
  {
   "cell_type": "code",
   "execution_count": null,
   "metadata": {},
   "outputs": [],
   "source": [
    "df = pd.read_excel(path_input ) #criação do dataframe de input\n",
    "\n",
    "X = df.drop(['Produção de óleo'], axis=1) #divisão do dataframe entre input e output\n",
    "X = X.drop(['simulação'], axis=1)\n",
    "X = X.drop(['Current oil in place'], axis=1)\n",
    "X = X.drop(['Original oil in place'], axis=1)\n",
    "num_parameters = len(X.columns) #contagem do número de variáveis\n",
    "y = pd.DataFrame(df['Produção de óleo']).to_numpy()\n",
    "\n",
    "X_train, X_test, y_train, y_test = train_test_split(X, y, test_size=0.25) #divisão do dataframe em grupos de treinamento e teste\n",
    "\n",
    "scaler = StandardScaler() #normalização dos dados\n",
    "scaler.fit(X_train) \n",
    "X_train = scaler.transform(X_train)\n",
    "X_test = scaler.transform(X_test)\n",
    "num_of_samples = len(df.index) #definição do número de pontos"
   ]
  },
  {
   "cell_type": "markdown",
   "metadata": {},
   "source": [
    "CRIAÇÃO DA REDE NEURAL"
   ]
  },
  {
   "cell_type": "code",
   "execution_count": null,
   "metadata": {},
   "outputs": [],
   "source": [
    "model = Sequential() #definição do modelo da rede neural\n",
    "\n",
    "model.add(Dense(num_parameters,input_dim=num_parameters, activation='relu')) #definição dos parâmetros da rede neural\n",
    "model.add(Dense(int(math.sqrt((3*len(df.index))) + (2*(len(df.index)/3))), activation='relu'))\n",
    "model.add(Dense(int((len(df.index)/3)), activation='relu'))\n",
    "model.add(Dense(1, activation='linear'))\n",
    "\n",
    "opt = keras.optimizers.Adam(learning_rate=0.002) #definição do optimizer\n",
    "callback = keras.callbacks.EarlyStopping(monitor='mae', patience=50, restore_best_weights=True) #definição do critério de parada\n",
    "model.compile(loss='mae', optimizer = opt ,metrics=['mse', 'mae']) #compilação do modelo\n",
    "\n",
    "history = model.fit(X_train, y_train, epochs=10000, validation_data=(X_test,y_test), callbacks=[callback]) #treinamento e testagem do modelo"
   ]
  }
 ],
 "metadata": {
  "language_info": {
   "name": "python"
  },
  "orig_nbformat": 4
 },
 "nbformat": 4,
 "nbformat_minor": 2
}
